{
  "metadata": {
    "language_info": {
      "name": ""
    },
    "kernelspec": {
      "name": "python",
      "display_name": "Python (Pyodide)",
      "language": "python"
    }
  },
  "nbformat_minor": 4,
  "nbformat": 4,
  "cells": [
    {
      "cell_type": "code",
      "source": "import numpy as np\nimport matplotlib.pyplot as plt\nimport pandas as pd",
      "metadata": {
        "trusted": true
      },
      "execution_count": null,
      "outputs": []
    },
    {
      "cell_type": "code",
      "source": "dataset = pd.read_csv('Data.csv')\ndataset. head()",
      "metadata": {
        "trusted": true
      },
      "execution_count": null,
      "outputs": []
    },
    {
      "cell_type": "code",
      "source": "× = dataset.iloc[:, :-1].values\ny = dataset.iloc[:, 3].values\nprint (\"Матрица признаков\");print(X)\nprint (\"Зависимая переменная\"); print(y)",
      "metadata": {
        "trusted": true
      },
      "execution_count": null,
      "outputs": []
    },
    {
      "cell_type": "code",
      "source": "from sklearn.preprocessing import Imputer\nimputer = Imputer(missing_values = \"NaN', strategy = 'mean', axis = 0)\nimputer - imputer.fit(x[:, 1:3])\nx[:, 1:3] = imputer.transform(x[:, 1:3]\nprint(x)",
      "metadata": {
        "trusted": true
      },
      "execution_count": null,
      "outputs": []
    },
    {
      "cell_type": "code",
      "source": "from sklearn.preprocessing import LabelEncoder\nlabelencoder_y = LabelEncoder()\nprint(\"Зависимая переменная до обработки\")\nprint(y)\ny = labelencoder_y.fit_transform(y)\nprint(\"Зависимая переменная после обработки\")\nprint(y)",
      "metadata": {
        "trusted": true
      },
      "execution_count": null,
      "outputs": []
    },
    {
      "cell_type": "code",
      "source": "from sklearn.preprocessing import OneHotEncoder\nlabelencoder x - LabelEncoder()\nx[:, 0] = labelencoder_x.fit_transform(x[:, 0])\nonehotencoder = OneHotEncoder(categorical_features = [e])\nX = onehotencoder.fit_transform(X).toarray()\nprint(\"Перекодировка категориального признака\")\nprint(X)",
      "metadata": {
        "trusted": true
      },
      "execution_count": null,
      "outputs": []
    },
    {
      "cell_type": "code",
      "source": "",
      "metadata": {},
      "execution_count": null,
      "outputs": []
    }
  ]
}