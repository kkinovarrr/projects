{
  "metadata": {
    "language_info": {
      "codemirror_mode": {
        "name": "python",
        "version": 3
      },
      "file_extension": ".py",
      "mimetype": "text/x-python",
      "name": "python",
      "nbconvert_exporter": "python",
      "pygments_lexer": "ipython3",
      "version": "3.8"
    },
    "kernelspec": {
      "name": "python",
      "display_name": "Python (Pyodide)",
      "language": "python"
    }
  },
  "nbformat_minor": 4,
  "nbformat": 4,
  "cells": [
    {
      "cell_type": "code",
      "source": "import numpy as np\nimport matplotlib.pyplot as plt\nimport pandas as pd",
      "metadata": {},
      "execution_count": null,
      "outputs": []
    },
    {
      "cell_type": "code",
      "source": "dataset = pd.read_csv(\"Position_Salaries.csv')\ndataset.head()",
      "metadata": {},
      "execution_count": null,
      "outputs": []
    },
    {
      "cell_type": "code",
      "source": "from sklearn.linear_model import LinearRegression\nlin_reg = LinearRegression()\nlin_reg.fit(X, y)",
      "metadata": {},
      "execution_count": null,
      "outputs": []
    },
    {
      "cell_type": "code",
      "source": "from sklearn.preprocessing import PolynomialFeatures\npoly_reg = PolynomialFeatures(degree = 10)\nX_poly = poly_reg.fit_transform(X)\npoly_reg.Fit(x_poly, y)\nlin_reg_2 = LinearRegression()\nlin_reg_2.fit(x_poly, y)",
      "metadata": {},
      "execution_count": null,
      "outputs": []
    },
    {
      "cell_type": "code",
      "source": "y_pred_lin = lin_reg.predict([[6.5]])\ny_pred_poly = lin_reg_2.predict(poly_reg.fit_transform([[6.5]]))\nprint(y_pred_lin, y_pred_poly)\nplt.scatter(X, y, color 'red\")\nplt.plot(x, lin_reg.predict(x), color = \"blue\")\nplt. title(\"Truth or Bluff (Linear Regression)\")\nplt. xlabel('Position level')\nplt.ylabel(\"salary\")\nplt. show()",
      "metadata": {},
      "execution_count": null,
      "outputs": []
    },
    {
      "cell_type": "code",
      "source": "plt.scatter(x, y, color = 'red')\nplt.plot(x, lin_reg_2.predict(poly_reg.fit_transform(x)), color = 'blue\")\nplt.title('Truth or Bluff (Polynomial Regression)')\nplt. xlabel('Position level')\nplt.ylabel('Salary')\nplt. show()",
      "metadata": {},
      "execution_count": null,
      "outputs": []
    },
    {
      "cell_type": "code",
      "source": "x_grid = np.arange(min(x), max(x), 0.1)\nx_grid = x_grid.reshape((len(x_grid), 1))\nplt.scatter(x, y, color = 'red')\nplt.plot(x_grid, lin_reg_2.predict(poly_reg.fit_transform(x_grid)), color = \"blue\")\nplt. title(\"Truth or Bluff (Polynomial Regression)\")\nplt. xlabel('Position level')\nplt.ylabel(\"Salary')\nplt. show()",
      "metadata": {},
      "execution_count": null,
      "outputs": []
    }
  ]
}