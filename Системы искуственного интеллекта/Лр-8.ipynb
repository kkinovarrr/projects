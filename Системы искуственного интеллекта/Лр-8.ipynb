{
  "metadata": {
    "language_info": {
      "name": ""
    },
    "kernelspec": {
      "name": "python",
      "display_name": "Python (Pyodide)",
      "language": "python"
    }
  },
  "nbformat_minor": 4,
  "nbformat": 4,
  "cells": [
    {
      "cell_type": "code",
      "source": "import numpy as np\nimport matplotlib.pyplot as plt\nimport pandas as pd",
      "metadata": {},
      "execution_count": null,
      "outputs": []
    },
    {
      "cell_type": "code",
      "source": "dataset = pd.read_csv(\"./salary_Data.csv')\ndataset.head()",
      "metadata": {},
      "execution_count": null,
      "outputs": []
    },
    {
      "cell_type": "code",
      "source": "x = dataset.iloc[:, :-1].values\ny = dataset.iloc[:, 1].values\nprint (\"Матрица признаков\"); print(X[:5])\nprint (\"Зависимая переменная\"); print(y[:5])",
      "metadata": {},
      "execution_count": null,
      "outputs": []
    },
    {
      "cell_type": "code",
      "source": "#from sklearn.cross_validation import train_test_split\nfrom sklearn.model_selection import train_test_split\nx_train, x_test, y_train, y_test = train_test_split(x, y, test_size = 1/4, random_state = 0)",
      "metadata": {},
      "execution_count": null,
      "outputs": []
    },
    {
      "cell_type": "code",
      "source": "from sklearn.linear_model import LinearRegression\nregressor = LinearRegression()\nregressor.fit(x_train, y_train)",
      "metadata": {},
      "execution_count": null,
      "outputs": []
    },
    {
      "cell_type": "code",
      "source": "y_pred = regressor.predict(x_test)\nprint(y_pred)",
      "metadata": {},
      "execution_count": null,
      "outputs": []
    },
    {
      "cell_type": "code",
      "source": "plt.scatter(x_train, y_train, color = 'red')\nplt.plot(X_train, regressor.predict(x_train), color = \"blue\")\nplt.title('Salary vs Experience (Training set)')\nplt.xlabel('Years of Experience')\nplt.ylabel('Salary\")\nplt.show()",
      "metadata": {},
      "execution_count": null,
      "outputs": []
    },
    {
      "cell_type": "code",
      "source": "plt.scatter(x_test, y_test, color = 'red')\nplt.plot(x_train, regressor.predict(x_train), color = 'blue')\nplt. title(\"Salary vs Experience (Test set)')\nplt. xlabel('Years of Experience')\nplt.ylabel('Salary')\nplt.show()",
      "metadata": {},
      "execution_count": null,
      "outputs": []
    }
  ]
}