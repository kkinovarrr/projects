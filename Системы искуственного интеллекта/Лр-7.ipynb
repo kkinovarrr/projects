{
 "cells": [
  {
   "cell_type": "code",
   "execution_count": 1,
   "metadata": {},
   "outputs": [],
   "source": [
    "import numpy as np\n",
    "import matplotlib.pyplot as plt\n",
    "import pandas as pd"
   ]
  },
  {
   "cell_type": "code",
   "execution_count": 2,
   "metadata": {},
   "outputs": [
    {
     "data": {
      "text/html": [
       "<div>\n",
       "<style scoped>\n",
       "    .dataframe tbody tr th:only-of-type {\n",
       "        vertical-align: middle;\n",
       "    }\n",
       "\n",
       "    .dataframe tbody tr th {\n",
       "        vertical-align: top;\n",
       "    }\n",
       "\n",
       "    .dataframe thead th {\n",
       "        text-align: right;\n",
       "    }\n",
       "</style>\n",
       "<table border=\"1\" class=\"dataframe\">\n",
       "  <thead>\n",
       "    <tr style=\"text-align: right;\">\n",
       "      <th></th>\n",
       "      <th>Country</th>\n",
       "      <th>Age</th>\n",
       "      <th>Salary</th>\n",
       "      <th>Purchased</th>\n",
       "    </tr>\n",
       "  </thead>\n",
       "  <tbody>\n",
       "    <tr>\n",
       "      <th>0</th>\n",
       "      <td>India</td>\n",
       "      <td>34.0</td>\n",
       "      <td>92000.0</td>\n",
       "      <td>Yes</td>\n",
       "    </tr>\n",
       "    <tr>\n",
       "      <th>1</th>\n",
       "      <td>Sri lanka</td>\n",
       "      <td>22.0</td>\n",
       "      <td>25000.0</td>\n",
       "      <td>Yes</td>\n",
       "    </tr>\n",
       "    <tr>\n",
       "      <th>2</th>\n",
       "      <td>China</td>\n",
       "      <td>31.0</td>\n",
       "      <td>74000.0</td>\n",
       "      <td>Yes</td>\n",
       "    </tr>\n",
       "    <tr>\n",
       "      <th>3</th>\n",
       "      <td>Sri lanka</td>\n",
       "      <td>29.0</td>\n",
       "      <td>NaN</td>\n",
       "      <td>No</td>\n",
       "    </tr>\n",
       "    <tr>\n",
       "      <th>4</th>\n",
       "      <td>China</td>\n",
       "      <td>55.0</td>\n",
       "      <td>98000.0</td>\n",
       "      <td>Yes</td>\n",
       "    </tr>\n",
       "  </tbody>\n",
       "</table>\n",
       "</div>"
      ],
      "text/plain": [
       "     Country   Age   Salary Purchased\n",
       "0      India  34.0  92000.0       Yes\n",
       "1  Sri lanka  22.0  25000.0       Yes\n",
       "2      China  31.0  74000.0       Yes\n",
       "3  Sri lanka  29.0      NaN        No\n",
       "4      China  55.0  98000.0       Yes"
      ]
     },
     "execution_count": 2,
     "metadata": {},
     "output_type": "execute_result"
    }
   ],
   "source": [
    "dataset = pd.read_csv('Data.csv')\n",
    "dataset. head()"
   ]
  },
  {
   "cell_type": "code",
   "execution_count": 3,
   "metadata": {},
   "outputs": [
    {
     "name": "stdout",
     "output_type": "stream",
     "text": [
      "Матрица признаков\n",
      "[['India' 34.0 92000.0]\n",
      " ['Sri lanka' 22.0 25000.0]\n",
      " ['China' 31.0 74000.0]\n",
      " ['Sri lanka' 29.0 nan]\n",
      " ['China' 55.0 98000.0]\n",
      " ['India' 24.0 30000.0]\n",
      " ['Sri lanka' 28.0 40000.0]\n",
      " ['India' nan 60000.0]\n",
      " ['China' 51.0 89000.0]\n",
      " ['India' 44.0 78000.0]\n",
      " ['Sri lanka' 21.0 20000.0]\n",
      " ['China' 25.0 30000.0]\n",
      " ['India' 33.0 45000.0]\n",
      " ['India' 42.0 65000.0]\n",
      " ['Sri lanka' 33.0 22000.0]]\n",
      "Зависимая переменная\n",
      "['Yes' 'Yes' 'Yes' 'No' 'Yes' 'No' 'No' 'No' 'Yes' 'Yes' 'No' 'Yes' 'Yes'\n",
      " 'Yes' 'No']\n"
     ]
    }
   ],
   "source": [
    "X = dataset.iloc[:, :-1].values\n",
    "y = dataset.iloc[:, 3].values\n",
    "print (\"Матрица признаков\");print(X)\n",
    "print (\"Зависимая переменная\"); print(y)"
   ]
  },
  {
   "cell_type": "code",
   "execution_count": 4,
   "metadata": {},
   "outputs": [
    {
     "name": "stdout",
     "output_type": "stream",
     "text": [
      "[['India' 34.0 92000.0]\n",
      " ['Sri lanka' 22.0 25000.0]\n",
      " ['China' 31.0 74000.0]\n",
      " ['Sri lanka' 29.0 54857.142857142855]\n",
      " ['China' 55.0 98000.0]\n",
      " ['India' 24.0 30000.0]\n",
      " ['Sri lanka' 28.0 40000.0]\n",
      " ['India' 33.714285714285715 60000.0]\n",
      " ['China' 51.0 89000.0]\n",
      " ['India' 44.0 78000.0]\n",
      " ['Sri lanka' 21.0 20000.0]\n",
      " ['China' 25.0 30000.0]\n",
      " ['India' 33.0 45000.0]\n",
      " ['India' 42.0 65000.0]\n",
      " ['Sri lanka' 33.0 22000.0]]\n"
     ]
    }
   ],
   "source": [
    "from sklearn.impute import SimpleImputer\n",
    "imputer = SimpleImputer(missing_values = np.nan , strategy = 'mean')\n",
    "imputer = imputer.fit(X[:, 1:3])\n",
    "X[:, 1:3] = imputer.transform(X[:, 1:3])\n",
    "print(X)"
   ]
  },
  {
   "cell_type": "code",
   "execution_count": 5,
   "metadata": {},
   "outputs": [
    {
     "name": "stdout",
     "output_type": "stream",
     "text": [
      "Зависимая переменная до обработки\n",
      "['Yes' 'Yes' 'Yes' 'No' 'Yes' 'No' 'No' 'No' 'Yes' 'Yes' 'No' 'Yes' 'Yes'\n",
      " 'Yes' 'No']\n",
      "Зависимая переменная после обработки\n",
      "[1 1 1 0 1 0 0 0 1 1 0 1 1 1 0]\n"
     ]
    }
   ],
   "source": [
    "from sklearn.preprocessing import LabelEncoder\n",
    "labelencoder_y = LabelEncoder()\n",
    "print(\"Зависимая переменная до обработки\")\n",
    "print(y)\n",
    "y = labelencoder_y.fit_transform(y)\n",
    "print(\"Зависимая переменная после обработки\")\n",
    "print(y)"
   ]
  },
  {
   "cell_type": "code",
   "execution_count": 6,
   "metadata": {},
   "outputs": [
    {
     "name": "stdout",
     "output_type": "stream",
     "text": [
      "Перекодировка категориального признака:\n",
      "  (0, 1)\t1.0\n",
      "  (0, 12)\t1.0\n",
      "  (0, 29)\t1.0\n",
      "  (1, 2)\t1.0\n",
      "  (1, 4)\t1.0\n",
      "  (1, 19)\t1.0\n",
      "  (2, 0)\t1.0\n",
      "  (2, 9)\t1.0\n",
      "  (2, 26)\t1.0\n",
      "  (3, 2)\t1.0\n",
      "  (3, 8)\t1.0\n",
      "  (3, 23)\t1.0\n",
      "  (4, 0)\t1.0\n",
      "  (4, 16)\t1.0\n",
      "  (4, 30)\t1.0\n",
      "  (5, 1)\t1.0\n",
      "  (5, 5)\t1.0\n",
      "  (5, 20)\t1.0\n",
      "  (6, 2)\t1.0\n",
      "  (6, 7)\t1.0\n",
      "  (6, 21)\t1.0\n",
      "  (7, 1)\t1.0\n",
      "  (7, 11)\t1.0\n",
      "  (7, 24)\t1.0\n",
      "  (8, 0)\t1.0\n",
      "  (8, 15)\t1.0\n",
      "  (8, 28)\t1.0\n",
      "  (9, 1)\t1.0\n",
      "  (9, 14)\t1.0\n",
      "  (9, 27)\t1.0\n",
      "  (10, 2)\t1.0\n",
      "  (10, 3)\t1.0\n",
      "  (10, 17)\t1.0\n",
      "  (11, 0)\t1.0\n",
      "  (11, 6)\t1.0\n",
      "  (11, 20)\t1.0\n",
      "  (12, 1)\t1.0\n",
      "  (12, 10)\t1.0\n",
      "  (12, 22)\t1.0\n",
      "  (13, 1)\t1.0\n",
      "  (13, 13)\t1.0\n",
      "  (13, 25)\t1.0\n",
      "  (14, 2)\t1.0\n",
      "  (14, 10)\t1.0\n",
      "  (14, 18)\t1.0\n"
     ]
    }
   ],
   "source": [
    "from sklearn.preprocessing import LabelEncoder, OneHotEncoder\n",
    "import numpy as np\n",
    "label_encoder_X = LabelEncoder()\n",
    "X[:, 0] = label_encoder_X.fit_transform(X[:, 0])\n",
    "onehot_encoder = OneHotEncoder(categories = 'auto')\n",
    "X = onehot_encoder.fit_transform(X)\n",
    "print('Перекодировка категориального признака:')\n",
    "print(X)"
   ]
  },
  {
   "cell_type": "code",
   "execution_count": null,
   "metadata": {},
   "outputs": [],
   "source": []
  }
 ],
 "metadata": {
  "kernelspec": {
   "display_name": "Python 3 (ipykernel)",
   "language": "python",
   "name": "python3"
  },
  "language_info": {
   "codemirror_mode": {
    "name": "ipython",
    "version": 3
   },
   "file_extension": ".py",
   "mimetype": "text/x-python",
   "name": "python",
   "nbconvert_exporter": "python",
   "pygments_lexer": "ipython3",
   "version": "3.11.4"
  }
 },
 "nbformat": 4,
 "nbformat_minor": 4
}
