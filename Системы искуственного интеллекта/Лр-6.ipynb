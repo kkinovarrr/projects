{
 "cells": [
  {
   "cell_type": "code",
   "execution_count": 1,
   "id": "833bca12-221d-4e12-a08b-08a09246411e",
   "metadata": {},
   "outputs": [],
   "source": [
    "from __future__ import division, print_function\n",
    "import numpy as np\n",
    "import pandas as pd\n",
    "import scipy\n",
    "from matplotlib import pyplot as plt\n",
    "import seaborn as sns\n",
    "from sklearn.model_selection import train_test_split\n",
    "from sklearn.linear_model import Ridge\n",
    "from sklearn.metrics import mean_squared_error\n",
    "%matplotlib inline"
   ]
  },
  {
   "cell_type": "code",
   "execution_count": 2,
   "id": "3260a4f7-002f-4b22-a1dc-7d5c80a3d2aa",
   "metadata": {},
   "outputs": [
    {
     "name": "stdout",
     "output_type": "stream",
     "text": [
      "//////////////////////////////////////////////////////////////////\n",
      "                                url        domain  post_id  \\\n",
      "0  https://habrahabr.ru/post/18284/  habrahabr.ru    18284   \n",
      "1  https://habrahabr.ru/post/18285/  habrahabr.ru    18285   \n",
      "2  https://habrahabr.ru/post/18286/  habrahabr.ru    18286   \n",
      "3  https://habrahabr.ru/post/18291/  habrahabr.ru    18291   \n",
      "4  https://geektimes.ru/post/18294/  geektimes.ru    18294   \n",
      "\n",
      "             published      author     flow  polling  content_len  \\\n",
      "0  2008-01-01 18:19:00      @Tapac  develop    False         4305   \n",
      "1  2008-01-01 18:30:00  @DezmASter   design    False         7344   \n",
      "2  2008-01-01 18:34:00  @DezmASter   design    False         8431   \n",
      "3  2008-01-02 01:32:00    @Taoorus   design    False         5662   \n",
      "4  2008-01-02 14:34:00    @dennydo      NaN    False         3706   \n",
      "\n",
      "                                               title  comments  favs  views  \\\n",
      "0     Новогодний подарок блоггерам — WordPress 2.3.2         0     0    236   \n",
      "1  Сумасшедшие яйца, или сервис для отслеживания ...         1     1    353   \n",
      "2  Сумасшедшие яйца, или сервис для отслеживания ...        47    72   1200   \n",
      "3     Сглаживание шрифтов, и субпиксельная отрисовка       102    36   5700   \n",
      "4                      Почему мне не нравится iPhone       230     6   1400   \n",
      "\n",
      "   votes_plus  votes_minus  views_lognorm  favs_lognorm  comments_lognorm  \n",
      "0         0.0          0.0      -0.792687     -1.344075         -2.436871  \n",
      "1         1.0          0.0      -0.485214     -0.831946         -1.873193  \n",
      "2        45.0          5.0       0.446090      1.794023          0.574656  \n",
      "3        72.0          3.0       1.627469      1.300050          1.167375  \n",
      "4        73.0         15.0       1.362397      0.961094          2.020356  \n",
      "/////////////////////////////////////////////////////////////////\n",
      "                                                 url        domain  post_id  \\\n",
      "0                  https://habrahabr.ru/post/314080/  habrahabr.ru   314080   \n",
      "1    https://habrahabr.ru/company/plesk/blog/313732/  habrahabr.ru   313732   \n",
      "2    https://habrahabr.ru/company/etagi/blog/314000/  habrahabr.ru   314000   \n",
      "3   https://habrahabr.ru/company/knopka/blog/314030/  habrahabr.ru   314030   \n",
      "4  https://geektimes.ru/company/audiomania/blog/2...  geektimes.ru   282058   \n",
      "\n",
      "             published   author       flow  polling  content_len  \\\n",
      "0  2016-11-01 01:05:00  @fsou11    develop     True        20132   \n",
      "1  2016-11-01 05:42:00      NaN  marketing    False        12389   \n",
      "2  2016-11-01 08:33:00      NaN      admin    False        72839   \n",
      "3  2016-11-01 09:00:00      NaN    develop    False        29572   \n",
      "4  2016-11-01 09:44:00      NaN        NaN    False         9642   \n",
      "\n",
      "                                               title  \n",
      "0                 Опыт использования MassTransit 3.0  \n",
      "1              Геймификация форума на движке XenForo  \n",
      "2  Кластер высокой доступности на postgresql 9.6 ...  \n",
      "3  Как перестать бояться и полюбить синтаксически...  \n",
      "4  Мифы и реальность: Что нужно знать о современн...  \n"
     ]
    }
   ],
   "source": [
    "train_df = pd.read_csv('howpop_train.csv')\n",
    "test_df = pd.read_csv('howpop_test.csv')\n",
    "print('//////////////////////////////////////////////////////////////////')\n",
    "print(train_df.head())\n",
    "print('/////////////////////////////////////////////////////////////////')\n",
    "print(test_df.head())"
   ]
  },
  {
   "cell_type": "code",
   "execution_count": 3,
   "id": "b7458036-bd4d-49a1-9f5d-a7250138f298",
   "metadata": {},
   "outputs": [
    {
     "name": "stdout",
     "output_type": "stream",
     "text": [
      "//////////////////////////////////////////////////////////////////\n",
      "                                                               0\n",
      "url                             https://habrahabr.ru/post/18284/\n",
      "domain                                              habrahabr.ru\n",
      "post_id                                                    18284\n",
      "published                                    2008-01-01 18:19:00\n",
      "author                                                    @Tapac\n",
      "flow                                                     develop\n",
      "polling                                                    False\n",
      "content_len                                                 4305\n",
      "title             Новогодний подарок блоггерам — WordPress 2.3.2\n",
      "comments                                                       0\n",
      "favs                                                           0\n",
      "views                                                        236\n",
      "votes_plus                                                   0.0\n",
      "votes_minus                                                  0.0\n",
      "views_lognorm                                          -0.792687\n",
      "favs_lognorm                                           -1.344075\n",
      "comments_lognorm                                       -2.436871\n",
      "/////////////////////////////////////////////////////////////////\n",
      "                                              0\n",
      "url           https://habrahabr.ru/post/314080/\n",
      "domain                             habrahabr.ru\n",
      "post_id                                  314080\n",
      "published                   2016-11-01 01:05:00\n",
      "author                                  @fsou11\n",
      "flow                                    develop\n",
      "polling                                    True\n",
      "content_len                               20132\n",
      "title        Опыт использования MassTransit 3.0\n"
     ]
    }
   ],
   "source": [
    "train_df = pd.read_csv('howpop_train.csv')\n",
    "test_df = pd.read_csv('howpop_test.csv')\n",
    "print('//////////////////////////////////////////////////////////////////')\n",
    "print(train_df.head(1).T)\n",
    "print('/////////////////////////////////////////////////////////////////')\n",
    "print(test_df.head(1).T)"
   ]
  },
  {
   "cell_type": "code",
   "execution_count": 4,
   "id": "fe89ee12-4381-44fa-83fd-7779811cfcfe",
   "metadata": {},
   "outputs": [
    {
     "name": "stdout",
     "output_type": "stream",
     "text": [
      "Тестовый набор: \t (3990, 9)\n",
      "Обучающая выборка: \t (134137, 17)\n"
     ]
    }
   ],
   "source": [
    "print('Тестовый набор: \\t', test_df.shape)\n",
    "print('Обучающая выборка: \\t', train_df.shape)"
   ]
  },
  {
   "cell_type": "code",
   "execution_count": 5,
   "id": "0a214e62-224e-48ff-8f79-f2e7da42698e",
   "metadata": {},
   "outputs": [
    {
     "name": "stdout",
     "output_type": "stream",
     "text": [
      "<class 'pandas.core.frame.DataFrame'>\n",
      "RangeIndex: 134137 entries, 0 to 134136\n",
      "Data columns (total 17 columns):\n",
      " #   Column            Non-Null Count   Dtype  \n",
      "---  ------            --------------   -----  \n",
      " 0   url               134137 non-null  object \n",
      " 1   domain            134137 non-null  object \n",
      " 2   post_id           134137 non-null  int64  \n",
      " 3   published         134137 non-null  object \n",
      " 4   author            97657 non-null   object \n",
      " 5   flow              97048 non-null   object \n",
      " 6   polling           134137 non-null  bool   \n",
      " 7   content_len       134137 non-null  int64  \n",
      " 8   title             134137 non-null  object \n",
      " 9   comments          134137 non-null  int64  \n",
      " 10  favs              134137 non-null  int64  \n",
      " 11  views             134137 non-null  int64  \n",
      " 12  votes_plus        133566 non-null  float64\n",
      " 13  votes_minus       133566 non-null  float64\n",
      " 14  views_lognorm     134137 non-null  float64\n",
      " 15  favs_lognorm      134137 non-null  float64\n",
      " 16  comments_lognorm  134137 non-null  float64\n",
      "dtypes: bool(1), float64(5), int64(5), object(6)\n",
      "memory usage: 16.5+ MB\n",
      "None\n"
     ]
    }
   ],
   "source": [
    "print(train_df.info())"
   ]
  },
  {
   "cell_type": "code",
   "execution_count": 6,
   "id": "0438f47e-a86c-435a-a5f6-f9cfd4e0e9e6",
   "metadata": {},
   "outputs": [
    {
     "name": "stdout",
     "output_type": "stream",
     "text": [
      "Ряд с датами столбца published\n",
      "0   2008-01-01 18:19:00\n",
      "1   2008-01-01 18:30:00\n",
      "2   2008-01-01 18:34:00\n",
      "3   2008-01-02 01:32:00\n",
      "4   2008-01-02 14:34:00\n",
      "Name: published, dtype: datetime64[ns]\n",
      "Размер объекта Series:  (134137, 17)\n"
     ]
    },
    {
     "data": {
      "text/plain": [
       "<Axes: >"
      ]
     },
     "execution_count": 6,
     "metadata": {},
     "output_type": "execute_result"
    },
    {
     "data": {
      "image/png": "[encoded data removed]",
      "text/plain": [
       "<Figure size 640x480 with 1 Axes>"
      ]
     },
     "metadata": {},
     "output_type": "display_data"
    }
   ],
   "source": [
    "ser_data = train_df['published'].apply(lambda ts: pd.to_datetime(ts))\n",
    "print('Ряд с датами столбца published')\n",
    "print(ser_data.head())\n",
    "print(\"Размер объекта Series: \", train_df.shape)\n",
    "ser_data.apply(lambda el: el.value).plot()"
   ]
  },
  {
   "cell_type": "code",
   "execution_count": 7,
   "id": "a9401ea6-2ad0-4fc4-8907-a4f39631291c",
   "metadata": {},
   "outputs": [
    {
     "data": {
      "text/html": [
       "<div>\n",
       "<style scoped>\n",
       "    .dataframe tbody tr th:only-of-type {\n",
       "        vertical-align: middle;\n",
       "    }\n",
       "\n",
       "    .dataframe tbody tr th {\n",
       "        vertical-align: top;\n",
       "    }\n",
       "\n",
       "    .dataframe thead th {\n",
       "        text-align: right;\n",
       "    }\n",
       "</style>\n",
       "<table border=\"1\" class=\"dataframe\">\n",
       "  <thead>\n",
       "    <tr style=\"text-align: right;\">\n",
       "      <th></th>\n",
       "      <th>post_id</th>\n",
       "      <th>polling</th>\n",
       "      <th>content_len</th>\n",
       "      <th>comments</th>\n",
       "      <th>favs</th>\n",
       "      <th>views</th>\n",
       "      <th>votes_plus</th>\n",
       "      <th>votes_minus</th>\n",
       "      <th>views_lognorm</th>\n",
       "      <th>favs_lognorm</th>\n",
       "      <th>comments_lognorm</th>\n",
       "    </tr>\n",
       "  </thead>\n",
       "  <tbody>\n",
       "    <tr>\n",
       "      <th>post_id</th>\n",
       "      <td>1.000000</td>\n",
       "      <td>0.081628</td>\n",
       "      <td>0.241384</td>\n",
       "      <td>-0.147763</td>\n",
       "      <td>0.089313</td>\n",
       "      <td>0.132385</td>\n",
       "      <td>-0.187885</td>\n",
       "      <td>-0.235594</td>\n",
       "      <td>-0.010376</td>\n",
       "      <td>-0.005845</td>\n",
       "      <td>-0.001605</td>\n",
       "    </tr>\n",
       "    <tr>\n",
       "      <th>polling</th>\n",
       "      <td>0.081628</td>\n",
       "      <td>1.000000</td>\n",
       "      <td>-0.003337</td>\n",
       "      <td>0.042605</td>\n",
       "      <td>0.006882</td>\n",
       "      <td>0.025660</td>\n",
       "      <td>-0.033505</td>\n",
       "      <td>0.027116</td>\n",
       "      <td>-0.003523</td>\n",
       "      <td>-0.036385</td>\n",
       "      <td>0.071417</td>\n",
       "    </tr>\n",
       "    <tr>\n",
       "      <th>content_len</th>\n",
       "      <td>0.241384</td>\n",
       "      <td>-0.003337</td>\n",
       "      <td>1.000000</td>\n",
       "      <td>-0.023544</td>\n",
       "      <td>0.308194</td>\n",
       "      <td>0.204101</td>\n",
       "      <td>0.068779</td>\n",
       "      <td>-0.078686</td>\n",
       "      <td>0.246063</td>\n",
       "      <td>0.356481</td>\n",
       "      <td>0.073132</td>\n",
       "    </tr>\n",
       "    <tr>\n",
       "      <th>comments</th>\n",
       "      <td>-0.147763</td>\n",
       "      <td>0.042605</td>\n",
       "      <td>-0.023544</td>\n",
       "      <td>1.000000</td>\n",
       "      <td>0.164166</td>\n",
       "      <td>0.290035</td>\n",
       "      <td>0.613961</td>\n",
       "      <td>0.457638</td>\n",
       "      <td>0.349568</td>\n",
       "      <td>0.278942</td>\n",
       "      <td>0.662740</td>\n",
       "    </tr>\n",
       "    <tr>\n",
       "      <th>favs</th>\n",
       "      <td>0.089313</td>\n",
       "      <td>0.006882</td>\n",
       "      <td>0.308194</td>\n",
       "      <td>0.164166</td>\n",
       "      <td>1.000000</td>\n",
       "      <td>0.634304</td>\n",
       "      <td>0.416241</td>\n",
       "      <td>0.062877</td>\n",
       "      <td>0.456097</td>\n",
       "      <td>0.587982</td>\n",
       "      <td>0.263239</td>\n",
       "    </tr>\n",
       "    <tr>\n",
       "      <th>views</th>\n",
       "      <td>0.132385</td>\n",
       "      <td>0.025660</td>\n",
       "      <td>0.204101</td>\n",
       "      <td>0.290035</td>\n",
       "      <td>0.634304</td>\n",
       "      <td>1.000000</td>\n",
       "      <td>0.396849</td>\n",
       "      <td>0.128654</td>\n",
       "      <td>0.585105</td>\n",
       "      <td>0.406782</td>\n",
       "      <td>0.326427</td>\n",
       "    </tr>\n",
       "    <tr>\n",
       "      <th>votes_plus</th>\n",
       "      <td>-0.187885</td>\n",
       "      <td>-0.033505</td>\n",
       "      <td>0.068779</td>\n",
       "      <td>0.613961</td>\n",
       "      <td>0.416241</td>\n",
       "      <td>0.396849</td>\n",
       "      <td>1.000000</td>\n",
       "      <td>0.464168</td>\n",
       "      <td>0.414232</td>\n",
       "      <td>0.449712</td>\n",
       "      <td>0.525081</td>\n",
       "    </tr>\n",
       "    <tr>\n",
       "      <th>votes_minus</th>\n",
       "      <td>-0.235594</td>\n",
       "      <td>0.027116</td>\n",
       "      <td>-0.078686</td>\n",
       "      <td>0.457638</td>\n",
       "      <td>0.062877</td>\n",
       "      <td>0.128654</td>\n",
       "      <td>0.464168</td>\n",
       "      <td>1.000000</td>\n",
       "      <td>0.146609</td>\n",
       "      <td>0.088226</td>\n",
       "      <td>0.355458</td>\n",
       "    </tr>\n",
       "    <tr>\n",
       "      <th>views_lognorm</th>\n",
       "      <td>-0.010376</td>\n",
       "      <td>-0.003523</td>\n",
       "      <td>0.246063</td>\n",
       "      <td>0.349568</td>\n",
       "      <td>0.456097</td>\n",
       "      <td>0.585105</td>\n",
       "      <td>0.414232</td>\n",
       "      <td>0.146609</td>\n",
       "      <td>1.000000</td>\n",
       "      <td>0.688811</td>\n",
       "      <td>0.546530</td>\n",
       "    </tr>\n",
       "    <tr>\n",
       "      <th>favs_lognorm</th>\n",
       "      <td>-0.005845</td>\n",
       "      <td>-0.036385</td>\n",
       "      <td>0.356481</td>\n",
       "      <td>0.278942</td>\n",
       "      <td>0.587982</td>\n",
       "      <td>0.406782</td>\n",
       "      <td>0.449712</td>\n",
       "      <td>0.088226</td>\n",
       "      <td>0.688811</td>\n",
       "      <td>1.000000</td>\n",
       "      <td>0.479476</td>\n",
       "    </tr>\n",
       "    <tr>\n",
       "      <th>comments_lognorm</th>\n",
       "      <td>-0.001605</td>\n",
       "      <td>0.071417</td>\n",
       "      <td>0.073132</td>\n",
       "      <td>0.662740</td>\n",
       "      <td>0.263239</td>\n",
       "      <td>0.326427</td>\n",
       "      <td>0.525081</td>\n",
       "      <td>0.355458</td>\n",
       "      <td>0.546530</td>\n",
       "      <td>0.479476</td>\n",
       "      <td>1.000000</td>\n",
       "    </tr>\n",
       "  </tbody>\n",
       "</table>\n",
       "</div>"
      ],
      "text/plain": [
       "                   post_id   polling  content_len  comments      favs  \\\n",
       "post_id           1.000000  0.081628     0.241384 -0.147763  0.089313   \n",
       "polling           0.081628  1.000000    -0.003337  0.042605  0.006882   \n",
       "content_len       0.241384 -0.003337     1.000000 -0.023544  0.308194   \n",
       "comments         -0.147763  0.042605    -0.023544  1.000000  0.164166   \n",
       "favs              0.089313  0.006882     0.308194  0.164166  1.000000   \n",
       "views             0.132385  0.025660     0.204101  0.290035  0.634304   \n",
       "votes_plus       -0.187885 -0.033505     0.068779  0.613961  0.416241   \n",
       "votes_minus      -0.235594  0.027116    -0.078686  0.457638  0.062877   \n",
       "views_lognorm    -0.010376 -0.003523     0.246063  0.349568  0.456097   \n",
       "favs_lognorm     -0.005845 -0.036385     0.356481  0.278942  0.587982   \n",
       "comments_lognorm -0.001605  0.071417     0.073132  0.662740  0.263239   \n",
       "\n",
       "                     views  votes_plus  votes_minus  views_lognorm  \\\n",
       "post_id           0.132385   -0.187885    -0.235594      -0.010376   \n",
       "polling           0.025660   -0.033505     0.027116      -0.003523   \n",
       "content_len       0.204101    0.068779    -0.078686       0.246063   \n",
       "comments          0.290035    0.613961     0.457638       0.349568   \n",
       "favs              0.634304    0.416241     0.062877       0.456097   \n",
       "views             1.000000    0.396849     0.128654       0.585105   \n",
       "votes_plus        0.396849    1.000000     0.464168       0.414232   \n",
       "votes_minus       0.128654    0.464168     1.000000       0.146609   \n",
       "views_lognorm     0.585105    0.414232     0.146609       1.000000   \n",
       "favs_lognorm      0.406782    0.449712     0.088226       0.688811   \n",
       "comments_lognorm  0.326427    0.525081     0.355458       0.546530   \n",
       "\n",
       "                  favs_lognorm  comments_lognorm  \n",
       "post_id              -0.005845         -0.001605  \n",
       "polling              -0.036385          0.071417  \n",
       "content_len           0.356481          0.073132  \n",
       "comments              0.278942          0.662740  \n",
       "favs                  0.587982          0.263239  \n",
       "views                 0.406782          0.326427  \n",
       "votes_plus            0.449712          0.525081  \n",
       "votes_minus           0.088226          0.355458  \n",
       "views_lognorm         0.688811          0.546530  \n",
       "favs_lognorm          1.000000          0.479476  \n",
       "comments_lognorm      0.479476          1.000000  "
      ]
     },
     "execution_count": 7,
     "metadata": {},
     "output_type": "execute_result"
    }
   ],
   "source": [
    "corr = train_df.corr(numeric_only=True)\n",
    "corr"
   ]
  },
  {
   "cell_type": "code",
   "execution_count": 8,
   "id": "7acc87e0-11e7-48cd-b0a3-4d7328b0af3f",
   "metadata": {},
   "outputs": [
    {
     "data": {
      "text/html": [
       "<div>\n",
       "<style scoped>\n",
       "    .dataframe tbody tr th:only-of-type {\n",
       "        vertical-align: middle;\n",
       "    }\n",
       "\n",
       "    .dataframe tbody tr th {\n",
       "        vertical-align: top;\n",
       "    }\n",
       "\n",
       "    .dataframe thead th {\n",
       "        text-align: right;\n",
       "    }\n",
       "</style>\n",
       "<table border=\"1\" class=\"dataframe\">\n",
       "  <thead>\n",
       "    <tr style=\"text-align: right;\">\n",
       "      <th></th>\n",
       "      <th>post_id</th>\n",
       "      <th>polling</th>\n",
       "      <th>content_len</th>\n",
       "      <th>comments</th>\n",
       "      <th>favs</th>\n",
       "      <th>views</th>\n",
       "      <th>votes_plus</th>\n",
       "      <th>votes_minus</th>\n",
       "      <th>views_lognorm</th>\n",
       "      <th>favs_lognorm</th>\n",
       "      <th>comments_lognorm</th>\n",
       "    </tr>\n",
       "  </thead>\n",
       "  <tbody>\n",
       "    <tr>\n",
       "      <th>post_id</th>\n",
       "      <td>1.0</td>\n",
       "      <td></td>\n",
       "      <td></td>\n",
       "      <td></td>\n",
       "      <td></td>\n",
       "      <td></td>\n",
       "      <td></td>\n",
       "      <td></td>\n",
       "      <td></td>\n",
       "      <td></td>\n",
       "      <td></td>\n",
       "    </tr>\n",
       "    <tr>\n",
       "      <th>polling</th>\n",
       "      <td></td>\n",
       "      <td>1.0</td>\n",
       "      <td></td>\n",
       "      <td></td>\n",
       "      <td></td>\n",
       "      <td></td>\n",
       "      <td></td>\n",
       "      <td></td>\n",
       "      <td></td>\n",
       "      <td></td>\n",
       "      <td></td>\n",
       "    </tr>\n",
       "    <tr>\n",
       "      <th>content_len</th>\n",
       "      <td></td>\n",
       "      <td></td>\n",
       "      <td>1.0</td>\n",
       "      <td></td>\n",
       "      <td></td>\n",
       "      <td></td>\n",
       "      <td></td>\n",
       "      <td></td>\n",
       "      <td></td>\n",
       "      <td></td>\n",
       "      <td></td>\n",
       "    </tr>\n",
       "    <tr>\n",
       "      <th>comments</th>\n",
       "      <td></td>\n",
       "      <td></td>\n",
       "      <td></td>\n",
       "      <td>1.0</td>\n",
       "      <td></td>\n",
       "      <td></td>\n",
       "      <td></td>\n",
       "      <td></td>\n",
       "      <td></td>\n",
       "      <td></td>\n",
       "      <td></td>\n",
       "    </tr>\n",
       "    <tr>\n",
       "      <th>favs</th>\n",
       "      <td></td>\n",
       "      <td></td>\n",
       "      <td></td>\n",
       "      <td></td>\n",
       "      <td>1.0</td>\n",
       "      <td></td>\n",
       "      <td></td>\n",
       "      <td></td>\n",
       "      <td></td>\n",
       "      <td></td>\n",
       "      <td></td>\n",
       "    </tr>\n",
       "    <tr>\n",
       "      <th>views</th>\n",
       "      <td></td>\n",
       "      <td></td>\n",
       "      <td></td>\n",
       "      <td></td>\n",
       "      <td></td>\n",
       "      <td>1.0</td>\n",
       "      <td></td>\n",
       "      <td></td>\n",
       "      <td></td>\n",
       "      <td></td>\n",
       "      <td></td>\n",
       "    </tr>\n",
       "    <tr>\n",
       "      <th>votes_plus</th>\n",
       "      <td></td>\n",
       "      <td></td>\n",
       "      <td></td>\n",
       "      <td></td>\n",
       "      <td></td>\n",
       "      <td></td>\n",
       "      <td>1.0</td>\n",
       "      <td></td>\n",
       "      <td></td>\n",
       "      <td></td>\n",
       "      <td></td>\n",
       "    </tr>\n",
       "    <tr>\n",
       "      <th>votes_minus</th>\n",
       "      <td></td>\n",
       "      <td></td>\n",
       "      <td></td>\n",
       "      <td></td>\n",
       "      <td></td>\n",
       "      <td></td>\n",
       "      <td></td>\n",
       "      <td>1.0</td>\n",
       "      <td></td>\n",
       "      <td></td>\n",
       "      <td></td>\n",
       "    </tr>\n",
       "    <tr>\n",
       "      <th>views_lognorm</th>\n",
       "      <td></td>\n",
       "      <td></td>\n",
       "      <td></td>\n",
       "      <td></td>\n",
       "      <td></td>\n",
       "      <td></td>\n",
       "      <td></td>\n",
       "      <td></td>\n",
       "      <td>1.0</td>\n",
       "      <td></td>\n",
       "      <td></td>\n",
       "    </tr>\n",
       "    <tr>\n",
       "      <th>favs_lognorm</th>\n",
       "      <td></td>\n",
       "      <td></td>\n",
       "      <td></td>\n",
       "      <td></td>\n",
       "      <td></td>\n",
       "      <td></td>\n",
       "      <td></td>\n",
       "      <td></td>\n",
       "      <td></td>\n",
       "      <td>1.0</td>\n",
       "      <td></td>\n",
       "    </tr>\n",
       "    <tr>\n",
       "      <th>comments_lognorm</th>\n",
       "      <td></td>\n",
       "      <td></td>\n",
       "      <td></td>\n",
       "      <td></td>\n",
       "      <td></td>\n",
       "      <td></td>\n",
       "      <td></td>\n",
       "      <td></td>\n",
       "      <td></td>\n",
       "      <td></td>\n",
       "      <td>1.0</td>\n",
       "    </tr>\n",
       "  </tbody>\n",
       "</table>\n",
       "</div>"
      ],
      "text/plain": [
       "                 post_id polling content_len comments favs views votes_plus  \\\n",
       "post_id              1.0                                                      \n",
       "polling                      1.0                                              \n",
       "content_len                              1.0                                  \n",
       "comments                                          1.0                         \n",
       "favs                                                   1.0                    \n",
       "views                                                        1.0              \n",
       "votes_plus                                                              1.0   \n",
       "votes_minus                                                                   \n",
       "views_lognorm                                                                 \n",
       "favs_lognorm                                                                  \n",
       "comments_lognorm                                                              \n",
       "\n",
       "                 votes_minus views_lognorm favs_lognorm comments_lognorm  \n",
       "post_id                                                                   \n",
       "polling                                                                   \n",
       "content_len                                                               \n",
       "comments                                                                  \n",
       "favs                                                                      \n",
       "views                                                                     \n",
       "votes_plus                                                                \n",
       "votes_minus              1.0                                              \n",
       "views_lognorm                          1.0                                \n",
       "favs_lognorm                                        1.0                   \n",
       "comments_lognorm                                                     1.0  "
      ]
     },
     "execution_count": 8,
     "metadata": {},
     "output_type": "execute_result"
    }
   ],
   "source": [
    "corr[corr>0.9].replace({np.nan : ''})"
   ]
  },
  {
   "cell_type": "code",
   "execution_count": 9,
   "id": "ce3fef4d-09db-4952-a038-efd8a954b4c4",
   "metadata": {},
   "outputs": [
    {
     "name": "stdout",
     "output_type": "stream",
     "text": [
      "published\n",
      "2008     7743\n",
      "2009    10783\n",
      "2010    13091\n",
      "2011    15063\n",
      "2012    15972\n",
      "2013    15537\n",
      "2014    16180\n",
      "2015    23452\n",
      "2016    16316\n",
      "Name: count, dtype: int64\n"
     ]
    }
   ],
   "source": [
    "df = train_df.copy()\n",
    "df['published'] = pd.to_datetime(df['published']).dt.year\n",
    "ss = df['published'].value_counts()\n",
    "print(ss.sort_index())"
   ]
  },
  {
   "cell_type": "code",
   "execution_count": 10,
   "id": "e2a7fdd0-5b7d-4c9c-96cd-1bf82e63ba25",
   "metadata": {},
   "outputs": [
    {
     "name": "stdout",
     "output_type": "stream",
     "text": [
      "Размер исходного набора:  134137 \n",
      "Размер обучающей подвыборки:  93895\n",
      "vX_train_title.vocabulary_:  50624\n",
      "vX_train_title.vocabulary_: 50624\n",
      "vX_train_title.vocabulary_: 50624\n",
      "X_train_title.shape: (93895, 50624)\n",
      "X_valid_title.shape: (40242, 50624)\n"
     ]
    }
   ],
   "source": [
    "features = ['author', 'flow', 'domain','title']\n",
    "train_size = int(0.7 * train_df.shape[0])\n",
    "print('Размер исходного набора: ', len(train_df),\n",
    "      '\\nРазмер обучающей подвыборки: ', train_size)\n",
    "x, y = train_df[features], train_df['favs_lognorm']\n",
    "X_test = test_df[features]\n",
    "X_train, X_valid = x[:train_size], x[train_size:]\n",
    "y_train, y_valid = y[:train_size], y[train_size:]\n",
    "\n",
    "from sklearn.feature_extraction.text import TfidfVectorizer\n",
    "vectorizer_title = TfidfVectorizer(min_df=3, max_df=0.3, ngram_range=(1,3))\n",
    "X_train_title = vectorizer_title.fit_transform(X_train['title'])\n",
    "print('vX_train_title.vocabulary_: ', len(vectorizer_title.vocabulary_))\n",
    "X_valid_title = vectorizer_title.transform(X_valid['title'])\n",
    "print('vX_train_title.vocabulary_:', len(vectorizer_title.vocabulary_))\n",
    "X_test_title = vectorizer_title.transform(X_test['title'])\n",
    "print('vX_train_title.vocabulary_:', len(vectorizer_title.vocabulary_))\n",
    "print('X_train_title.shape:', X_train_title.shape)\n",
    "print('X_valid_title.shape:', X_valid_title.shape)"
   ]
  },
  {
   "cell_type": "code",
   "execution_count": 11,
   "id": "c10d1b34-5c74-4219-9732-b9da51a522ad",
   "metadata": {},
   "outputs": [
    {
     "name": "stdout",
     "output_type": "stream",
     "text": [
      "vX_train_title_ch.vocabulary_: 77566\n",
      "vX_valid_title_ch: (40242, 77566)\n",
      "vX_test_title_ch: (3990, 77566)\n",
      "X_train_title_ch.shape:  (93895, 77566)\n",
      "X_valid_title_ch.shape:  (40242, 77566)\n",
      "X_test_title_ch.shape:  (3990, 77566)\n"
     ]
    }
   ],
   "source": [
    "from sklearn.feature_extraction.text import CountVectorizer\n",
    "vectorizer_title_ch = TfidfVectorizer(analyzer='char')\n",
    "vectorizer_title_ch = CountVectorizer()\n",
    "\n",
    "vX_train_title_ch = vectorizer_title_ch.fit_transform(X_train['title'])\n",
    "print('vX_train_title_ch.vocabulary_:', len(vectorizer_title_ch.vocabulary_))\n",
    "\n",
    "vX_valid_title_ch = vectorizer_title_ch.transform(X_valid['title'])\n",
    "print('vX_valid_title_ch:', vX_valid_title_ch.shape)\n",
    "\n",
    "vX_test_title_ch = vectorizer_title_ch.transform(X_test['title'])\n",
    "print('vX_test_title_ch:', vX_test_title_ch.shape)\n",
    "\n",
    "X_train_title_ch = vectorizer_title_ch.fit_transform(X_train['title'])\n",
    "print('X_train_title_ch.shape: ', X_train_title_ch.shape)\n",
    "X_valid_title_ch = vectorizer_title_ch.transform(X_valid['title'])\n",
    "print('X_valid_title_ch.shape: ', X_valid_title_ch.shape)\n",
    "X_test_title_ch = vectorizer_title_ch.transform(X_test['title'])\n",
    "print('X_test_title_ch.shape: ', X_test_title_ch.shape)"
   ]
  },
  {
   "cell_type": "code",
   "execution_count": 14,
   "id": "48860db4-cc91-4869-bcd6-311c07b61a9d",
   "metadata": {},
   "outputs": [
    {
     "name": "stdout",
     "output_type": "stream",
     "text": [
      "(93895, 17869)\n",
      "(40242, 17869)\n",
      "(3990, 17869)\n"
     ]
    }
   ],
   "source": [
    "from sklearn.feature_extraction import DictVectorizer\n",
    "\n",
    "feats = ['author', 'flow', 'domain']\n",
    "tmp_dict_train = X_train[feats].fillna('-').T.to_dict().values()\n",
    "tmp_dict_valid = X_valid[feats].fillna('-').T.to_dict().values()\n",
    "tmp_dict_test = X_test[feats].fillna('-').T.to_dict().values()\n",
    "\n",
    "X_train_feats = vectorizer_feats.fit_transform(tmp_dict_train)\n",
    "X_valid_feats = vectorizer_feats.transform(tmp_dict_valid)\n",
    "X_test_feats = vectorizer_feats.transform(tmp_dict_test)\n",
    "\n",
    "print(X_train_feats.shape)\n",
    "print(X_valid_feats.shape)\n",
    "print(X_test_feats.shape)"
   ]
  },
  {
   "cell_type": "code",
   "execution_count": 15,
   "id": "88034bcc-2ca6-4d7d-89d8-c0c5b6aca216",
   "metadata": {},
   "outputs": [
    {
     "name": "stdout",
     "output_type": "stream",
     "text": [
      "(93895, 146059)\n",
      "(40242, 146059)\n",
      "(3990, 146059)\n"
     ]
    }
   ],
   "source": [
    "X_train_new = scipy.sparse.hstack([X_train_title,\\\n",
    "                                   X_train_feats,\\\n",
    "                                   X_train_title_ch])\n",
    "X_valid_new = scipy.sparse.hstack([X_valid_title,\\\n",
    "                                   X_valid_feats,\\\n",
    "                                   X_valid_title_ch])\n",
    "X_test_new = scipy.sparse.hstack([X_test_title,\\\n",
    "                                  X_test_feats,\\\n",
    "                                  X_test_title_ch])\n",
    "print(X_train_new.shape)\n",
    "print(X_valid_new.shape)\n",
    "print(X_test_new.shape)"
   ]
  },
  {
   "cell_type": "code",
   "execution_count": 16,
   "id": "982b87d1-2336-4631-b5a9-499fa11993a2",
   "metadata": {},
   "outputs": [
    {
     "name": "stdout",
     "output_type": "stream",
     "text": [
      "CPU times: total: 26.3 s\n",
      "Wall time: 10.3 s\n"
     ]
    },
    {
     "data": {
      "text/html": [
       "<style>#sk-container-id-1 {color: black;}#sk-container-id-1 pre{padding: 0;}#sk-container-id-1 div.sk-toggleable {background-color: white;}#sk-container-id-1 label.sk-toggleable__label {cursor: pointer;display: block;width: 100%;margin-bottom: 0;padding: 0.3em;box-sizing: border-box;text-align: center;}#sk-container-id-1 label.sk-toggleable__label-arrow:before {content: \"▸\";float: left;margin-right: 0.25em;color: #696969;}#sk-container-id-1 label.sk-toggleable__label-arrow:hover:before {color: black;}#sk-container-id-1 div.sk-estimator:hover label.sk-toggleable__label-arrow:before {color: black;}#sk-container-id-1 div.sk-toggleable__content {max-height: 0;max-width: 0;overflow: hidden;text-align: left;background-color: #f0f8ff;}#sk-container-id-1 div.sk-toggleable__content pre {margin: 0.2em;color: black;border-radius: 0.25em;background-color: #f0f8ff;}#sk-container-id-1 input.sk-toggleable__control:checked~div.sk-toggleable__content {max-height: 200px;max-width: 100%;overflow: auto;}#sk-container-id-1 input.sk-toggleable__control:checked~label.sk-toggleable__label-arrow:before {content: \"▾\";}#sk-container-id-1 div.sk-estimator input.sk-toggleable__control:checked~label.sk-toggleable__label {background-color: #d4ebff;}#sk-container-id-1 div.sk-label input.sk-toggleable__control:checked~label.sk-toggleable__label {background-color: #d4ebff;}#sk-container-id-1 input.sk-hidden--visually {border: 0;clip: rect(1px 1px 1px 1px);clip: rect(1px, 1px, 1px, 1px);height: 1px;margin: -1px;overflow: hidden;padding: 0;position: absolute;width: 1px;}#sk-container-id-1 div.sk-estimator {font-family: monospace;background-color: #f0f8ff;border: 1px dotted black;border-radius: 0.25em;box-sizing: border-box;margin-bottom: 0.5em;}#sk-container-id-1 div.sk-estimator:hover {background-color: #d4ebff;}#sk-container-id-1 div.sk-parallel-item::after {content: \"\";width: 100%;border-bottom: 1px solid gray;flex-grow: 1;}#sk-container-id-1 div.sk-label:hover label.sk-toggleable__label {background-color: #d4ebff;}#sk-container-id-1 div.sk-serial::before {content: \"\";position: absolute;border-left: 1px solid gray;box-sizing: border-box;top: 0;bottom: 0;left: 50%;z-index: 0;}#sk-container-id-1 div.sk-serial {display: flex;flex-direction: column;align-items: center;background-color: white;padding-right: 0.2em;padding-left: 0.2em;position: relative;}#sk-container-id-1 div.sk-item {position: relative;z-index: 1;}#sk-container-id-1 div.sk-parallel {display: flex;align-items: stretch;justify-content: center;background-color: white;position: relative;}#sk-container-id-1 div.sk-item::before, #sk-container-id-1 div.sk-parallel-item::before {content: \"\";position: absolute;border-left: 1px solid gray;box-sizing: border-box;top: 0;bottom: 0;left: 50%;z-index: -1;}#sk-container-id-1 div.sk-parallel-item {display: flex;flex-direction: column;z-index: 1;position: relative;background-color: white;}#sk-container-id-1 div.sk-parallel-item:first-child::after {align-self: flex-end;width: 50%;}#sk-container-id-1 div.sk-parallel-item:last-child::after {align-self: flex-start;width: 50%;}#sk-container-id-1 div.sk-parallel-item:only-child::after {width: 0;}#sk-container-id-1 div.sk-dashed-wrapped {border: 1px dashed gray;margin: 0 0.4em 0.5em 0.4em;box-sizing: border-box;padding-bottom: 0.4em;background-color: white;}#sk-container-id-1 div.sk-label label {font-family: monospace;font-weight: bold;display: inline-block;line-height: 1.2em;}#sk-container-id-1 div.sk-label-container {text-align: center;}#sk-container-id-1 div.sk-container {/* jupyter's `normalize.less` sets `[hidden] { display: none; }` but bootstrap.min.css set `[hidden] { display: none !important; }` so we also need the `!important` here to be able to override the default hidden behavior on the sphinx rendered scikit-learn.org. See: https://github.com/scikit-learn/scikit-learn/issues/21755 */display: inline-block !important;position: relative;}#sk-container-id-1 div.sk-text-repr-fallback {display: none;}</style><div id=\"sk-container-id-1\" class=\"sk-top-container\"><div class=\"sk-text-repr-fallback\"><pre>Ridge(alpha=0.1, random_state=1)</pre><b>In a Jupyter environment, please rerun this cell to show the HTML representation or trust the notebook. <br />On GitHub, the HTML representation is unable to render, please try loading this page with nbviewer.org.</b></div><div class=\"sk-container\" hidden><div class=\"sk-item\"><div class=\"sk-estimator sk-toggleable\"><input class=\"sk-toggleable__control sk-hidden--visually\" id=\"sk-estimator-id-1\" type=\"checkbox\" checked><label for=\"sk-estimator-id-1\" class=\"sk-toggleable__label sk-toggleable__label-arrow\">Ridge</label><div class=\"sk-toggleable__content\"><pre>Ridge(alpha=0.1, random_state=1)</pre></div></div></div></div></div>"
      ],
      "text/plain": [
       "Ridge(alpha=0.1, random_state=1)"
      ]
     },
     "execution_count": 16,
     "metadata": {},
     "output_type": "execute_result"
    }
   ],
   "source": [
    "%%time\n",
    "model_1 = Ridge(alpha=.1, random_state=1)\n",
    "model_1.fit(X_train_new, y_train)"
   ]
  },
  {
   "cell_type": "code",
   "execution_count": 17,
   "id": "4fd379c8-e102-4fcd-947e-ab9a384fe2cf",
   "metadata": {},
   "outputs": [
    {
     "name": "stdout",
     "output_type": "stream",
     "text": [
      "Ошибка на трейне:  0.04157613675886106\n",
      "Ошибка на тесте:  1.1796580720726937\n"
     ]
    }
   ],
   "source": [
    "train_preds1 = model_1.predict(X_train_new)\n",
    "valid_preds1 = model_1.predict(X_valid_new)\n",
    "print('Ошибка на трейне: ', mean_squared_error(y_train, train_preds1))\n",
    "print('Ошибка на тесте: ', mean_squared_error(y_valid, valid_preds1))"
   ]
  },
  {
   "cell_type": "code",
   "execution_count": 18,
   "id": "96169939-88a6-4472-b025-449d81255d55",
   "metadata": {},
   "outputs": [
    {
     "name": "stdout",
     "output_type": "stream",
     "text": [
      "CPU times: total: 6.67 s\n",
      "Wall time: 3.42 s\n"
     ]
    },
    {
     "data": {
      "text/html": [
       "<style>#sk-container-id-2 {color: black;}#sk-container-id-2 pre{padding: 0;}#sk-container-id-2 div.sk-toggleable {background-color: white;}#sk-container-id-2 label.sk-toggleable__label {cursor: pointer;display: block;width: 100%;margin-bottom: 0;padding: 0.3em;box-sizing: border-box;text-align: center;}#sk-container-id-2 label.sk-toggleable__label-arrow:before {content: \"▸\";float: left;margin-right: 0.25em;color: #696969;}#sk-container-id-2 label.sk-toggleable__label-arrow:hover:before {color: black;}#sk-container-id-2 div.sk-estimator:hover label.sk-toggleable__label-arrow:before {color: black;}#sk-container-id-2 div.sk-toggleable__content {max-height: 0;max-width: 0;overflow: hidden;text-align: left;background-color: #f0f8ff;}#sk-container-id-2 div.sk-toggleable__content pre {margin: 0.2em;color: black;border-radius: 0.25em;background-color: #f0f8ff;}#sk-container-id-2 input.sk-toggleable__control:checked~div.sk-toggleable__content {max-height: 200px;max-width: 100%;overflow: auto;}#sk-container-id-2 input.sk-toggleable__control:checked~label.sk-toggleable__label-arrow:before {content: \"▾\";}#sk-container-id-2 div.sk-estimator input.sk-toggleable__control:checked~label.sk-toggleable__label {background-color: #d4ebff;}#sk-container-id-2 div.sk-label input.sk-toggleable__control:checked~label.sk-toggleable__label {background-color: #d4ebff;}#sk-container-id-2 input.sk-hidden--visually {border: 0;clip: rect(1px 1px 1px 1px);clip: rect(1px, 1px, 1px, 1px);height: 1px;margin: -1px;overflow: hidden;padding: 0;position: absolute;width: 1px;}#sk-container-id-2 div.sk-estimator {font-family: monospace;background-color: #f0f8ff;border: 1px dotted black;border-radius: 0.25em;box-sizing: border-box;margin-bottom: 0.5em;}#sk-container-id-2 div.sk-estimator:hover {background-color: #d4ebff;}#sk-container-id-2 div.sk-parallel-item::after {content: \"\";width: 100%;border-bottom: 1px solid gray;flex-grow: 1;}#sk-container-id-2 div.sk-label:hover label.sk-toggleable__label {background-color: #d4ebff;}#sk-container-id-2 div.sk-serial::before {content: \"\";position: absolute;border-left: 1px solid gray;box-sizing: border-box;top: 0;bottom: 0;left: 50%;z-index: 0;}#sk-container-id-2 div.sk-serial {display: flex;flex-direction: column;align-items: center;background-color: white;padding-right: 0.2em;padding-left: 0.2em;position: relative;}#sk-container-id-2 div.sk-item {position: relative;z-index: 1;}#sk-container-id-2 div.sk-parallel {display: flex;align-items: stretch;justify-content: center;background-color: white;position: relative;}#sk-container-id-2 div.sk-item::before, #sk-container-id-2 div.sk-parallel-item::before {content: \"\";position: absolute;border-left: 1px solid gray;box-sizing: border-box;top: 0;bottom: 0;left: 50%;z-index: -1;}#sk-container-id-2 div.sk-parallel-item {display: flex;flex-direction: column;z-index: 1;position: relative;background-color: white;}#sk-container-id-2 div.sk-parallel-item:first-child::after {align-self: flex-end;width: 50%;}#sk-container-id-2 div.sk-parallel-item:last-child::after {align-self: flex-start;width: 50%;}#sk-container-id-2 div.sk-parallel-item:only-child::after {width: 0;}#sk-container-id-2 div.sk-dashed-wrapped {border: 1px dashed gray;margin: 0 0.4em 0.5em 0.4em;box-sizing: border-box;padding-bottom: 0.4em;background-color: white;}#sk-container-id-2 div.sk-label label {font-family: monospace;font-weight: bold;display: inline-block;line-height: 1.2em;}#sk-container-id-2 div.sk-label-container {text-align: center;}#sk-container-id-2 div.sk-container {/* jupyter's `normalize.less` sets `[hidden] { display: none; }` but bootstrap.min.css set `[hidden] { display: none !important; }` so we also need the `!important` here to be able to override the default hidden behavior on the sphinx rendered scikit-learn.org. See: https://github.com/scikit-learn/scikit-learn/issues/21755 */display: inline-block !important;position: relative;}#sk-container-id-2 div.sk-text-repr-fallback {display: none;}</style><div id=\"sk-container-id-2\" class=\"sk-top-container\"><div class=\"sk-text-repr-fallback\"><pre>Ridge(random_state=1)</pre><b>In a Jupyter environment, please rerun this cell to show the HTML representation or trust the notebook. <br />On GitHub, the HTML representation is unable to render, please try loading this page with nbviewer.org.</b></div><div class=\"sk-container\" hidden><div class=\"sk-item\"><div class=\"sk-estimator sk-toggleable\"><input class=\"sk-toggleable__control sk-hidden--visually\" id=\"sk-estimator-id-2\" type=\"checkbox\" checked><label for=\"sk-estimator-id-2\" class=\"sk-toggleable__label sk-toggleable__label-arrow\">Ridge</label><div class=\"sk-toggleable__content\"><pre>Ridge(random_state=1)</pre></div></div></div></div></div>"
      ],
      "text/plain": [
       "Ridge(random_state=1)"
      ]
     },
     "execution_count": 18,
     "metadata": {},
     "output_type": "execute_result"
    }
   ],
   "source": [
    "%%time\n",
    "model_2 = Ridge(alpha=1.0, random_state=1)\n",
    "model_2.fit(X_train_new, y_train)"
   ]
  },
  {
   "cell_type": "code",
   "execution_count": 19,
   "id": "8c63825e-630f-4855-82b4-8f2f1d241e91",
   "metadata": {},
   "outputs": [
    {
     "name": "stdout",
     "output_type": "stream",
     "text": [
      "Ошибка на трейне:  0.14687334675989266\n",
      "Ошибка на тесте:  0.7890890272507068\n"
     ]
    }
   ],
   "source": [
    "train_preds2 = model_2.predict(X_train_new)\n",
    "valid_preds2 = model_2.predict(X_valid_new)\n",
    "print('Ошибка на трейне: ', mean_squared_error(y_train, train_preds2))\n",
    "print('Ошибка на тесте: ', mean_squared_error(y_valid, valid_preds2))"
   ]
  },
  {
   "cell_type": "code",
   "execution_count": null,
   "id": "00ca5b26-0ddb-40fb-b6c8-d4c32b415044",
   "metadata": {},
   "outputs": [],
   "source": []
  }
 ],
 "metadata": {
  "kernelspec": {
   "display_name": "Python 3 (ipykernel)",
   "language": "python",
   "name": "python3"
  },
  "language_info": {
   "codemirror_mode": {
    "name": "ipython",
    "version": 3
   },
   "file_extension": ".py",
   "mimetype": "text/x-python",
   "name": "python",
   "nbconvert_exporter": "python",
   "pygments_lexer": "ipython3",
   "version": "3.11.4"
  }
 },
 "nbformat": 4,
 "nbformat_minor": 5
}
