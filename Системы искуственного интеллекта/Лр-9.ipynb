{
  "metadata": {
    "language_info": {
      "codemirror_mode": {
        "name": "python",
        "version": 3
      },
      "file_extension": ".py",
      "mimetype": "text/x-python",
      "name": "python",
      "nbconvert_exporter": "python",
      "pygments_lexer": "ipython3",
      "version": "3.8"
    },
    "kernelspec": {
      "name": "python",
      "display_name": "Python (Pyodide)",
      "language": "python"
    }
  },
  "nbformat_minor": 4,
  "nbformat": 4,
  "cells": [
    {
      "cell_type": "code",
      "source": "import numpy as np\nimport matplotlib.pyplot as plt\nimport pandas as pd",
      "metadata": {},
      "execution_count": null,
      "outputs": []
    },
    {
      "cell_type": "code",
      "source": "dataset = pd.read_csv(\"50_Startups.csv')\ndataset.head()",
      "metadata": {},
      "execution_count": null,
      "outputs": []
    },
    {
      "cell_type": "code",
      "source": "x= dataset.iloc[:, :-1].values\nydataset.iloc[:, 4].values\nprint (\"Матрица признаков\"); print(X[:5])\nprint (\"Зависимая переменная\"); print(y[:5])",
      "metadata": {},
      "execution_count": null,
      "outputs": []
    },
    {
      "cell_type": "code",
      "source": "#from sklearn preprocessing import Imputer\n#imputer = Imputer(missing_values = 'NaN', strategy = 'mean', axis = 0) #imputer imputer.fit(X[:, 1:3])\n#x[:, 1:3] = imputer.transform(X[:, 1:3))\n#print(X)",
      "metadata": {},
      "execution_count": null,
      "outputs": []
    },
    {
      "cell_type": "code",
      "source": "#from sklearn,preprocessing import LabelEncoder\n#LabeLencoder_y = LabeLEncoder()\n#print(\"Забисимая переменная до обработки\")\n#print(y)\n#y = labelencoder_y.fit_transform(y)\n#print(\"Зависимая переменная после обработки\")\n#print(y)",
      "metadata": {},
      "execution_count": null,
      "outputs": []
    },
    {
      "cell_type": "code",
      "source": "from sklearn.preprocessing import LabelEncoder, OneHotEncoder\nlabelencoder = LabelEncoder()\nX[:, 3] = labelencoder.fit_transform(X[:, 3])\nonehotencoder = OneHotEncoder(categorical_features = [3])\nX = onehotencoder.fit_transform(X).toarray()\nprint(\"Перекодировка категориального признака\")\nprint(X[:4,:])",
      "metadata": {},
      "execution_count": null,
      "outputs": []
    },
    {
      "cell_type": "code",
      "source": "x= x[: , 1:]\nprint(X[:4,:])",
      "metadata": {},
      "execution_count": null,
      "outputs": []
    },
    {
      "cell_type": "code",
      "source": "#from sklearn.cross_validation import train_test_split\nfrom sklearn.model_selection import train_test_split\nX_train, x_test, y_train, y_test = train_test_split(x, y, test_size - 0.2, random_state = 0)",
      "metadata": {},
      "execution_count": null,
      "outputs": []
    },
    {
      "cell_type": "code",
      "source": "from sklearn.linear_model import LinearRegression\nregressor = LinearRegression()\nregressor.fit(X_train, y_train)",
      "metadata": {},
      "execution_count": null,
      "outputs": []
    },
    {
      "cell_type": "code",
      "source": "y_pred = regressor.predict(X_test)\nprint(y_pred)",
      "metadata": {},
      "execution_count": null,
      "outputs": []
    },
    {
      "cell_type": "code",
      "source": "import statsmodels. formula.api as sm\nx = np.append(arr = np.ones((50, 1)).astype(int), values = x, axis = 1)\nX_opt = X[:, [0, 1, 2, 3, 4, 5]]\nregressor_OLS = sm.OLS(endog = y, exog = X_opt).Fit()\nregressor_OLS.summary()",
      "metadata": {},
      "execution_count": null,
      "outputs": []
    },
    {
      "cell_type": "code",
      "source": "X_opt = x[:, [0, 1, 3, 4, 5]]\nregressor_OLS = sm.OLS(endog = y, exog = X_opt).fit() regressor_OLS.summary()",
      "metadata": {},
      "execution_count": null,
      "outputs": []
    },
    {
      "cell_type": "code",
      "source": "X_opt = x[:, [0, 3, 4, 5]]\nregressor_OLS = sm.OLS(endog = y, exog = X_opt).fit()\nregressor_OLS. summary()",
      "metadata": {},
      "execution_count": null,
      "outputs": []
    },
    {
      "cell_type": "code",
      "source": "X_opt x[:, [0, 3, 5]]\nregressor_OLS = sm.OLS(endog = y, exog = X_opt).fit()\nregressor_OLS.summary()",
      "metadata": {},
      "execution_count": null,
      "outputs": []
    },
    {
      "cell_type": "code",
      "source": "X_opt = X[:, [0, 3]]\nregressor_OLS = sm.OLS(endog = y, exog = X_opt).fit()\nregressor_OLS.summary()",
      "metadata": {},
      "execution_count": null,
      "outputs": []
    }
  ]
}